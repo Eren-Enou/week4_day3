{
 "cells": [
  {
   "cell_type": "markdown",
   "metadata": {},
   "source": [
    "# Classic Algorithms"
   ]
  },
  {
   "cell_type": "markdown",
   "metadata": {},
   "source": [
    "## Tasks Today:\n",
    " \n",
    "1) <b>In-Place Algorithms</b> <br>\n",
    " &nbsp;&nbsp;&nbsp;&nbsp; a) Syntax <br>\n",
    " &nbsp;&nbsp;&nbsp;&nbsp; a) Out of Place Algorithm <br>\n",
    " &nbsp;&nbsp;&nbsp;&nbsp; b) In-Class Exercise #1 <br>\n",
    "2) <b>Two Pointers</b> <br>\n",
    "3) <b>Sorting Algorithms</b> <br>\n",
    "4) <b>Merge Sort</b> <br>\n",
    " &nbsp;&nbsp;&nbsp;&nbsp; a) Video on Algorithms <br>\n",
    " &nbsp;&nbsp;&nbsp;&nbsp; b) How it Works <br>\n",
    "5) <b>Exercises</b> <br>\n",
    " &nbsp;&nbsp;&nbsp;&nbsp; a) Exercise #1 - Reverse a List in Place Using an In-Place Algorithm <br>\n",
    " &nbsp;&nbsp;&nbsp;&nbsp; b) Exercise #2 - Find Distinct Words <br>\n",
    " &nbsp;&nbsp;&nbsp;&nbsp; c) Exercise #3 - Write a program to implement a Linear Search Algorithm. <br>"
   ]
  },
  {
   "cell_type": "markdown",
   "metadata": {},
   "source": [
    "## In-Place Algorithms"
   ]
  },
  {
   "cell_type": "code",
   "execution_count": null,
   "metadata": {},
   "outputs": [],
   "source": [
    "#constant time = O(1)\n",
    "def find_first_index(a_list):\n",
    "    return a_list[0]\n",
    "\n",
    "list1 = [i for i in range(10)]\n",
    "list2 = [i for i in range(100)]\n",
    "\n",
    "print(find_first_index(list1))\n",
    "print(find_first_index(list2))"
   ]
  },
  {
   "cell_type": "code",
   "execution_count": 3,
   "metadata": {},
   "outputs": [
    {
     "name": "stdout",
     "output_type": "stream",
     "text": [
      "0\n",
      "1\n",
      "2\n",
      "3\n",
      "4\n",
      "5\n",
      "6\n",
      "7\n",
      "8\n",
      "9\n",
      "10\n"
     ]
    }
   ],
   "source": [
    "#Linear Time = O(n)\n",
    "#The size of the input has a linear impact on the run time\n",
    "\n",
    "def count_operations(n):\n",
    "    num_operations = 0\n",
    "    for i in range(n):\n",
    "        print(i)\n",
    "        num_operations += 1\n",
    "    return num_operations\n",
    "\n",
    "print(count_operations(10))"
   ]
  },
  {
   "cell_type": "code",
   "execution_count": 4,
   "metadata": {},
   "outputs": [
    {
     "name": "stdout",
     "output_type": "stream",
     "text": [
      "0 0\n",
      "0 1\n",
      "0 2\n",
      "1 0\n",
      "1 1\n",
      "1 2\n",
      "2 0\n",
      "2 1\n",
      "2 2\n",
      "9\n"
     ]
    }
   ],
   "source": [
    "\n",
    "#Quadratic Time = O(n**2)\n",
    "#Operation runs at the sequared size of the input data\n",
    "\n",
    "def count_operations2(n):\n",
    "    num_operations2 = 0\n",
    "    for i in range(n):\n",
    "        for j in range(n):\n",
    "            print(i,j)\n",
    "            num_operations2 += 1\n",
    "    return num_operations2\n",
    "\n",
    "print(count_operations2(3))"
   ]
  },
  {
   "cell_type": "markdown",
   "metadata": {},
   "source": [
    "#### Syntax"
   ]
  },
  {
   "cell_type": "code",
   "execution_count": 1,
   "metadata": {},
   "outputs": [
    {
     "name": "stdout",
     "output_type": "stream",
     "text": [
      "0\n",
      "0\n"
     ]
    }
   ],
   "source": [
    "my_list = [3,5,7,8,1,2,3,4,7,3,3,6]\n",
    "print(id(my_list))\n",
    "\n",
    "def sort_my_list_in_place(a_list):\n",
    "    a_list.sort()\n",
    "    return a_list\n",
    "\n",
    "def sort_my_list_out_of_place(a_list):\n",
    "    return sorted(a_list)"
   ]
  },
  {
   "cell_type": "code",
   "execution_count": null,
   "metadata": {},
   "outputs": [],
   "source": []
  },
  {
   "cell_type": "code",
   "execution_count": null,
   "metadata": {},
   "outputs": [],
   "source": []
  },
  {
   "cell_type": "code",
   "execution_count": null,
   "metadata": {},
   "outputs": [],
   "source": [
    "# a_list[a], a_list[b] = a_list[b], a_list[a]\n",
    "list 1 = [1, 2, 3, 4, 5]\n",
    "\n",
    "def swp(a_list, index_a, index_b):\n",
    "    a_list[index_a] =  a_list[index_b]\n",
    "    a_list[index_b] = a_list[index_a]"
   ]
  },
  {
   "cell_type": "code",
   "execution_count": null,
   "metadata": {},
   "outputs": [],
   "source": []
  },
  {
   "cell_type": "markdown",
   "metadata": {},
   "source": [
    "#### Out of Place Algorithm"
   ]
  },
  {
   "cell_type": "code",
   "execution_count": null,
   "metadata": {},
   "outputs": [],
   "source": [
    "list 1 = [1, 2, 3, 4, 5]\n",
    "\n",
    "def swp(a_list, index_a, index_b):\n",
    "    temp_a = a_list[index_a]\n",
    "    a_list[index_a] =  a_list[index_b]\n",
    "    a_list[index_b] = temp_a"
   ]
  },
  {
   "cell_type": "code",
   "execution_count": null,
   "metadata": {},
   "outputs": [],
   "source": [
    "def out_of_place_swap(original_list,index1,index2):\n",
    "    new_list = original_list[:]\n",
    "    new_list[indxe1] = original_list[index2]\n",
    "    new_list[index2] = original_list[index1]\n",
    "    return new_list\n",
    "\n",
    "list3 =['blue','orange','red','green','yellow','purple']\n",
    "new_list = out_"
   ]
  },
  {
   "cell_type": "code",
   "execution_count": null,
   "metadata": {},
   "outputs": [],
   "source": []
  },
  {
   "cell_type": "markdown",
   "metadata": {},
   "source": [
    "#### In-Class Exercise #1 <br>\n",
    "<p>Write a function that takes in four arguments (a_list, index1, index2, index3), and swaps those three positions in the list passed in.</p>"
   ]
  },
  {
   "cell_type": "code",
   "execution_count": 11,
   "metadata": {},
   "outputs": [
    {
     "name": "stdout",
     "output_type": "stream",
     "text": [
      "['hello', 'goodbye', 'bonjour', 'hola', 'adios']\n"
     ]
    }
   ],
   "source": [
    "def swap_three(a_list, a, b, c):\n",
    "    temp1 = a_list[a]\n",
    "    temp2 = a_list[b]\n",
    "    temp3 = a_list[c]\n",
    "    a_list[a] = temp3\n",
    "    a_list[b] = temp2\n",
    "    a_list[c] = temp1\n",
    "    return a_list\n",
    "\n",
    "print(swap_three(['hello', 'goodbye', 'adios', 'hola', 'bonjour'], 2, 3, 4))\n",
    "\n",
    "#output: #['hello', 'goodbye', 'bonjour', 'hola', 'adios'], since the elements at index 2, 3, #and 4 (i.e. 'adios', 'hola', and 'bonjour') have been swapped."
   ]
  },
  {
   "cell_type": "markdown",
   "metadata": {},
   "source": [
    "## Two Pointers"
   ]
  },
  {
   "cell_type": "markdown",
   "metadata": {},
   "source": [
    "#### Syntax"
   ]
  },
  {
   "cell_type": "code",
   "execution_count": 13,
   "metadata": {},
   "outputs": [
    {
     "name": "stdout",
     "output_type": "stream",
     "text": [
      "[80, 70, 60, 50, 40, 30, 20, 10]\n"
     ]
    }
   ],
   "source": [
    "def reverse_in_place(a_list):\n",
    "    left = 0\n",
    "    right = len(a_list) - 1\n",
    "    \n",
    "    while left < right:\n",
    "        a_list[left], a_list[right] = a_list[right], a_list[left]\n",
    "        left += 1\n",
    "        right -= 1\n",
    "    return a_list    \n",
    "\n",
    "some_list = [10, 20, 30, 40, 50, 60, 70, 80]\n",
    "\n",
    "reverse_in_place(some_list)\n",
    "print(some_list)"
   ]
  },
  {
   "cell_type": "code",
   "execution_count": 33,
   "metadata": {},
   "outputs": [],
   "source": [
    "my_list2 = [1,2,3,4,5]\n",
    "\n",
    "my_list2 = my_list2[::-1]"
   ]
  },
  {
   "cell_type": "markdown",
   "metadata": {},
   "source": [
    "# Sorting Algorithms"
   ]
  },
  {
   "cell_type": "code",
   "execution_count": 34,
   "metadata": {},
   "outputs": [
    {
     "name": "stdout",
     "output_type": "stream",
     "text": [
      "[19, 34, 34, 18, 39, 8, 22, 25, 32, 36]\n"
     ]
    }
   ],
   "source": [
    "import random\n",
    "\n",
    "list_to_sort = [random.randint(1,50) for _ in range(10)]\n",
    "print(list_to_sort)"
   ]
  },
  {
   "cell_type": "markdown",
   "metadata": {},
   "source": [
    "#### Bubble Sort\n",
    "\n",
    "Worst Case: O(n^2) Time - O(1) Space"
   ]
  },
  {
   "cell_type": "code",
   "execution_count": 27,
   "metadata": {},
   "outputs": [
    {
     "name": "stdout",
     "output_type": "stream",
     "text": [
      "[3, 8, 15, 22, 33, 36, 37, 43, 47, 50]\n"
     ]
    }
   ],
   "source": [
    "def bubble_sort(list):\n",
    "    #assume list isn't sorted\n",
    "    is_sorted = False\n",
    "    #while the list is not sorted, loop through and bubble largest to the end\n",
    "    while not is_sorted:\n",
    "        #begin the for loop with the assumption that the list is sorted\n",
    "        is_sorted = True\n",
    "        #loop from the 0-index to the last-index - 1\n",
    "        for i in range(len(list)-1):\n",
    "            j = i + 1\n",
    "            # if the list at index i is greater than value to the right\n",
    "            if list[i] > list[j]:\n",
    "                #swap the two values\n",
    "                list[i], list[j] = list[j], list[i]\n",
    "                is_sorted = False\n",
    "        return list\n",
    "print(bubble_sort(list_to_sort))"
   ]
  },
  {
   "cell_type": "markdown",
   "metadata": {},
   "source": [
    "##### Insertion Sort\n",
    "\n",
    "Worst Case: O(n^2) time - O(1)space"
   ]
  },
  {
   "cell_type": "code",
   "execution_count": 36,
   "metadata": {},
   "outputs": [
    {
     "name": "stdout",
     "output_type": "stream",
     "text": [
      "[8, 18, 19, 22, 25, 32, 34, 34, 36, 39]\n"
     ]
    }
   ],
   "source": [
    "def insertion_sort(list):\n",
    "    \n",
    "    for i in range(1, len(list)):\n",
    "        \n",
    "        while i > 0 and list[i] < list[i-1]:\n",
    "            \n",
    "            list[i], list[i - 1] = list[i - 1], list[i]\n",
    "            \n",
    "            i -= 1\n",
    "    return list\n",
    "print(insertion_sort(list_to_sort))"
   ]
  },
  {
   "cell_type": "code",
   "execution_count": null,
   "metadata": {},
   "outputs": [],
   "source": []
  },
  {
   "cell_type": "markdown",
   "metadata": {},
   "source": [
    "## Merge Sort"
   ]
  },
  {
   "cell_type": "markdown",
   "metadata": {},
   "source": [
    "#### How it Works"
   ]
  },
  {
   "cell_type": "code",
   "execution_count": 42,
   "metadata": {},
   "outputs": [
    {
     "name": "stdout",
     "output_type": "stream",
     "text": [
      "[39, 19, 15, 34, 7, 45, 30, 6, 9, 32]\n"
     ]
    }
   ],
   "source": [
    "list_to_sort = [random.randint(1,50) for _ in range(10)]\n",
    "print(list_to_sort)"
   ]
  },
  {
   "cell_type": "code",
   "execution_count": 43,
   "metadata": {},
   "outputs": [
    {
     "name": "stdout",
     "output_type": "stream",
     "text": [
      "splitting... [39, 19, 15, 34, 7, 45, 30, 6, 9, 32]\n",
      "splitting... [39, 19, 15, 34, 7]\n",
      "splitting... [39, 19]\n",
      "Merged... [19, 39]\n",
      "splitting... [15, 34, 7]\n",
      "splitting... [34, 7]\n",
      "Merged... [7, 34]\n",
      "Merged... [7, 15, 34]\n",
      "Merged... [7, 15, 19, 34, 39]\n",
      "splitting... [45, 30, 6, 9, 32]\n",
      "splitting... [45, 30]\n",
      "Merged... [30, 45]\n",
      "splitting... [6, 9, 32]\n",
      "splitting... [9, 32]\n",
      "Merged... [9, 32]\n",
      "Merged... [6, 9, 32]\n",
      "Merged... [6, 9, 30, 32, 45]\n",
      "Merged... [6, 7, 9, 15, 19, 30, 32, 34, 39, 45]\n"
     ]
    },
    {
     "data": {
      "text/plain": [
       "[6, 7, 9, 15, 19, 30, 32, 34, 39, 45]"
      ]
     },
     "execution_count": 43,
     "metadata": {},
     "output_type": "execute_result"
    }
   ],
   "source": [
    "def merge_sort(list):\n",
    "    #check to see if the list has more than one element\n",
    "    if len(list) > 1:\n",
    "        #Find the midway point with floor division\n",
    "        mid = len(list) // 2\n",
    "        print('splitting...', list)\n",
    "        left = list[:mid]\n",
    "        right = list[mid:]\n",
    "        #recursively call merge sort on left and right\n",
    "        merge_sort(left)\n",
    "        merge_sort(right)\n",
    "        \n",
    "        #pointers\n",
    "        l = 0\n",
    "        r = 0\n",
    "        m = 0\n",
    "        \n",
    "        #while there are still elements in both the lfet and right\n",
    "        while l < len(left) and r < len(right):\n",
    "            #if the lowest value in the left half is less than lowest value in right half\n",
    "            if left[l] < right[r]:\n",
    "                #add value at the left half to the main list\n",
    "                list[m] = left[l]\n",
    "                #move left pointer right by one element\n",
    "                l += 1\n",
    "            #if lowest in right half is less than or equal to the lowest in left\n",
    "            else:\n",
    "                #add the value at the right to main list\n",
    "                list[m] = right[r]\n",
    "                #move right pointer by one\n",
    "                r+= 1\n",
    "            m += 1\n",
    "        if l < len(left):\n",
    "            list[m:] = left[l:]\n",
    "        #if the left half is exhausted first, fill main with rest of right\n",
    "        if r < len(right):\n",
    "            list[m:] = right[r:]\n",
    "        print('Merged...', list)\n",
    "    return list\n",
    "\n",
    "merge_sort(list_to_sort)"
   ]
  },
  {
   "cell_type": "markdown",
   "metadata": {},
   "source": [
    "# Binary Search\n",
    "\n",
    "The Binary Search algorithm works by finding the number in the middle of a given array and comparing it to the target. **Given that the array is sorted**\n",
    "\n",
    "* The worst case run time for this algorithm is `O(log(n))`"
   ]
  },
  {
   "cell_type": "code",
   "execution_count": 44,
   "metadata": {},
   "outputs": [
    {
     "data": {
      "text/plain": [
       "'The index for 42 is 3'"
      ]
     },
     "execution_count": 44,
     "metadata": {},
     "output_type": "execute_result"
    }
   ],
   "source": [
    "# Less == Left\n",
    "# Greater == Right\n",
    "# List of numbers MUST be sorted\n",
    "\n",
    "def binary_search(list, target):\n",
    "    low = 0\n",
    "    high = len(list)-1\n",
    "    while low <= high:\n",
    "        mid = (low + high) // 2\n",
    "        if target == list[mid]:\n",
    "            return f\"The index for {target} is {mid}\"\n",
    "        elif target < list[mid]:\n",
    "            high = mid - 1\n",
    "        else:\n",
    "            low = mid + 1\n",
    "            \n",
    "binary_search([50,47,37,42,26,29,19,27], 42)"
   ]
  },
  {
   "cell_type": "markdown",
   "metadata": {},
   "source": [
    "# Exercises"
   ]
  },
  {
   "cell_type": "markdown",
   "metadata": {},
   "source": [
    "### Exercise #1 <br>\n",
    "<p>Reverse the list below in-place using an in-place algorithm.<br>For extra credit: Reverse the strings at the same time.</p>"
   ]
  },
  {
   "cell_type": "code",
   "execution_count": 47,
   "metadata": {},
   "outputs": [
    {
     "name": "stdout",
     "output_type": "stream",
     "text": [
      "['.', 'sentence', 'a', 'is', 'this']\n"
     ]
    }
   ],
   "source": [
    "words = ['this' , 'is', 'a', 'sentence', '.']\n",
    "#output : ['.', 'sentence','a','is','this']\n",
    "# 2 pointers, one at left, one at right.\n",
    "# while left < right\n",
    "#words[left], words[right] = words[right],words[left]\n",
    "\n",
    "#EC Output : ['.','ecnetnes', 'a','si','siht']\n",
    "\n",
    "\n",
    "\n",
    "\n",
    "left = 0\n",
    "right = len(words) - 1\n",
    "\n",
    "while left < right:\n",
    "    words[left],words[right] = words[right],words[left]\n",
    "    left += 1\n",
    "    right -= 1\n",
    "\n",
    "print(words)"
   ]
  },
  {
   "cell_type": "markdown",
   "metadata": {},
   "source": [
    "### Exercise #2 <br>\n",
    "<p>Create a function that counts how many distinct words are in the string below, then outputs a dictionary with the words as the key and the value as the amount of times that word appears in the string.</p>\n",
    "Example Output:<code>{'in': 1, 'computing': 1, 'a': 5, ...}</code>"
   ]
  },
  {
   "cell_type": "code",
   "execution_count": 50,
   "metadata": {},
   "outputs": [
    {
     "name": "stdout",
     "output_type": "stream",
     "text": [
      "{'in': 1, 'computing,': 1, 'a': 5, 'hash': 4, 'table': 2, 'map': 2, 'is': 1, 'data': 2, 'structure': 2, 'which': 2, 'implements': 1, 'an': 3, 'associative': 1, 'array': 2, 'abstract': 1, 'type,': 1, 'that': 1, 'can': 2, 'keys': 1, 'to': 2, 'values.': 1, 'uses': 1, 'function': 1, 'compute': 1, 'index': 1, 'into': 1, 'of': 1, 'buckets': 1, 'or': 1, 'slots': 1, 'from': 1, 'the': 1, 'desired': 1, 'value': 1, 'be': 1, 'found': 1}\n"
     ]
    }
   ],
   "source": [
    "a_text = 'In computing, a hash table hash map is a data structure which implements an associative array abstract data type, a structure that can map keys to values. A hash table uses a hash function to compute an index into an array of buckets or slots from which the desired value can be found'\n",
    "#initialize dict\n",
    "# for loop .lower() .split()\n",
    "# if in else\n",
    "#key = word, value = key[word] += 1\n",
    "\n",
    "distinct_words = {}\n",
    "for word in a_text.lower().split():\n",
    "    if word in distinct_words:\n",
    "        distinct_words[word] += 1\n",
    "    else:\n",
    "        distinct_words[word] = 1\n",
    "    \n",
    "print(distinct_words)\n"
   ]
  },
  {
   "cell_type": "markdown",
   "metadata": {},
   "source": [
    "## Exercise #3\n",
    "\n",
    "Write a function implementing a Linear Search Algorithm. A linear search is a method for finding an element within a list. It sequentially checks each element of the list until a match is found or the whole list has been searched. If you do not find a match, return -1"
   ]
  },
  {
   "cell_type": "code",
   "execution_count": 55,
   "metadata": {},
   "outputs": [
    {
     "data": {
      "text/plain": [
       "'The target 70 is at index 3'"
      ]
     },
     "execution_count": 55,
     "metadata": {},
     "output_type": "execute_result"
    }
   ],
   "source": [
    "nums_list = [10,23,45,70,11,15]\n",
    "target = 70\n",
    "\n",
    "# If number is not present return -1\n",
    "#for loop, check each element against target\n",
    "\n",
    "def find_target(num_list, target):\n",
    "    for num in range(len(num_list)):\n",
    "        if num_list[num] == target:\n",
    "            return f\"The target {target} is at index {num}\"\n",
    "    return -1\n",
    "find_target(nums_list, target)"
   ]
  },
  {
   "cell_type": "code",
   "execution_count": null,
   "metadata": {},
   "outputs": [],
   "source": []
  }
 ],
 "metadata": {
  "kernelspec": {
   "display_name": "Python 3 (ipykernel)",
   "language": "python",
   "name": "python3"
  },
  "language_info": {
   "codemirror_mode": {
    "name": "ipython",
    "version": 3
   },
   "file_extension": ".py",
   "mimetype": "text/x-python",
   "name": "python",
   "nbconvert_exporter": "python",
   "pygments_lexer": "ipython3",
   "version": "3.9.13"
  }
 },
 "nbformat": 4,
 "nbformat_minor": 2
}
